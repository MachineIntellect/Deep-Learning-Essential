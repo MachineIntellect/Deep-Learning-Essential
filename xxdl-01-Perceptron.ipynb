{
 "cells": [
  {
   "cell_type": "code",
   "execution_count": 1,
   "metadata": {
    "collapsed": true
   },
   "outputs": [],
   "source": [
    "from mxnet import nd\n",
    "from mxnet import autograd"
   ]
  },
  {
   "cell_type": "code",
   "execution_count": 2,
   "metadata": {
    "collapsed": true
   },
   "outputs": [],
   "source": [
    "def stepFunction(x):\n",
    "    return 1 if x.asscalar() >0 else 0\n",
    "def getDataset():\n",
    "    xs = nd.array([[1,1], [1,0], [0,1], [0,0]])\n",
    "    ys = nd.array([1, 0, 0, 0])\n",
    "    return xs, ys"
   ]
  },
  {
   "cell_type": "code",
   "execution_count": 3,
   "metadata": {
    "collapsed": true
   },
   "outputs": [],
   "source": [
    "class Perceptron(object):\n",
    "    def __init__(self, activator):\n",
    "        self.activator = activator\n",
    "        self.weights = nd.array([])\n",
    "        self.bias = nd.zeros(1)\n",
    "    \n",
    "    def __str__(self):\n",
    "        w = self.weights.asnumpy().tolist()\n",
    "        b = self.bias.asnumpy().tolist()\n",
    "        strw = 'weights: %s' % w\n",
    "        strb = 'bias: %s' % b\n",
    "        return strw + '\\n' + strb\n",
    "    \n",
    "    def net(self, x):\n",
    "        result = self.activator(nd.dot(self.weights, x) + self.bias)\n",
    "        return result\n",
    "    \n",
    "    def updateWeights(self, x, yhat, y, eta):\n",
    "        deltaw = eta * (y - yhat) * x\n",
    "        self.weights+=deltaw\n",
    "\n",
    "        deltab = eta * (y - yhat)\n",
    "        self.bias += deltab\n",
    "    \n",
    "    def epoch(self, xs, ys, eta):\n",
    "        for x, y in zip(xs, ys):\n",
    "            yhat = self.net(x)\n",
    "            self.updateWeights(x, yhat, y, eta)\n",
    "    \n",
    "    def train(self, xs, ys, epochs, eta):\n",
    "        inputNum = len(xs[0])\n",
    "        self.weights = nd.zeros(inputNum)\n",
    "        for i in range(epochs):\n",
    "            self.epoch(xs, ys, eta)        "
   ]
  },
  {
   "cell_type": "code",
   "execution_count": 4,
   "metadata": {
    "collapsed": true
   },
   "outputs": [],
   "source": [
    "andP = Perceptron(stepFunction)"
   ]
  },
  {
   "cell_type": "code",
   "execution_count": 5,
   "metadata": {},
   "outputs": [
    {
     "name": "stdout",
     "output_type": "stream",
     "text": [
      "weights: []\n",
      "bias: [0.0]\n"
     ]
    }
   ],
   "source": [
    "print(andP)"
   ]
  },
  {
   "cell_type": "code",
   "execution_count": 6,
   "metadata": {
    "collapsed": true
   },
   "outputs": [],
   "source": [
    "xs, ys = getDataset()"
   ]
  },
  {
   "cell_type": "code",
   "execution_count": 7,
   "metadata": {
    "collapsed": true
   },
   "outputs": [],
   "source": [
    "andP.train(xs, ys, 5, 0.01)"
   ]
  },
  {
   "cell_type": "code",
   "execution_count": 8,
   "metadata": {},
   "outputs": [
    {
     "name": "stdout",
     "output_type": "stream",
     "text": [
      "weights: [0.009999999776482582, 0.019999999552965164]\n",
      "bias: [-0.019999999552965164]\n"
     ]
    }
   ],
   "source": [
    "print(andP)"
   ]
  },
  {
   "cell_type": "code",
   "execution_count": 9,
   "metadata": {},
   "outputs": [
    {
     "name": "stdout",
     "output_type": "stream",
     "text": [
      "[1.0, 1.0] 1\n",
      "[1.0, 0.0] 0\n",
      "[0.0, 1.0] 0\n",
      "[0.0, 0.0] 0\n"
     ]
    }
   ],
   "source": [
    "for x in xs:\n",
    "    print(x.asnumpy().tolist(), andP.net(x))"
   ]
  }
 ],
 "metadata": {
  "kernelspec": {
   "display_name": "Python 3",
   "language": "python",
   "name": "python3"
  },
  "language_info": {
   "codemirror_mode": {
    "name": "ipython",
    "version": 3
   },
   "file_extension": ".py",
   "mimetype": "text/x-python",
   "name": "python",
   "nbconvert_exporter": "python",
   "pygments_lexer": "ipython3",
   "version": "3.6.3"
  }
 },
 "nbformat": 4,
 "nbformat_minor": 2
}
